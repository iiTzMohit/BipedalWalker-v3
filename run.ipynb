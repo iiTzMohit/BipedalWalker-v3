{
 "cells": [
  {
   "cell_type": "code",
   "execution_count": null,
   "id": "f8a42494-c633-4e88-86ee-cd088b0537f1",
   "metadata": {},
   "outputs": [],
   "source": [
    "import torch\n",
    "from torch import nn\n",
    "import gymnasium as gym\n",
    "import numpy as np"
   ]
  },
  {
   "cell_type": "code",
   "execution_count": null,
   "id": "ebffab07-f54d-41ba-9ab5-220faf4509a8",
   "metadata": {},
   "outputs": [],
   "source": [
    "class PolicyModel(nn.Module):\n",
    "    def __init__(self, obs_size, action_size):\n",
    "        super().__init__()\n",
    "        self.mean = nn.Sequential(\n",
    "                        nn.Linear(obs_size, 512),\n",
    "                        nn.ReLU(),\n",
    "                        nn.Linear(512, 256),\n",
    "                        nn.ReLU(),\n",
    "                        nn.Linear(256, 64),\n",
    "                        nn.ReLU(),\n",
    "                        nn.Linear(64, action_size),\n",
    "                        nn.Tanh())\n",
    "        \n",
    "        self.logstd_layer = nn.Parameter(torch.zeros(action_size))\n",
    "    \n",
    "    def forward(self, x):\n",
    "        return self.mean(x), self.logstd_layer"
   ]
  },
  {
   "cell_type": "code",
   "execution_count": null,
   "id": "5326fcc5-9062-410d-b121-1f965f9ad859",
   "metadata": {},
   "outputs": [],
   "source": [
    "policy_model = PolicyModel(obs_size=24, action_size = 4)\n",
    "policy_model.load_state_dict(torch.load('actor_model_weightsv1.2.pth'))"
   ]
  },
  {
   "cell_type": "code",
   "execution_count": null,
   "id": "751cc776-9406-40b8-9dd8-ddf51a15bd43",
   "metadata": {},
   "outputs": [],
   "source": [
    "env = gym.make(\"BipedalWalker-v3\", render_mode = 'human')\n",
    "epi_reward = 0\n",
    "step = 0\n",
    "obs = env.reset()[0]\n",
    "while True:\n",
    "    step+=1\n",
    "    with torch.inference_mode():\n",
    "        action, logstd = policy_model(torch.from_numpy(obs))\n",
    "        action = action.numpy()\n",
    "        next_state, reward, done, info, _ = env.step(action)\n",
    "        epi_reward += reward\n",
    "        if done:\n",
    "            break\n",
    "        else:\n",
    "            obs = next_state\n",
    "print(f'Episode reward: {epi_reward} | step count: {step}')\n",
    "env.close()"
   ]
  }
 ],
 "metadata": {
  "kernelspec": {
   "display_name": "Python 3 (ipykernel)",
   "language": "python",
   "name": "python3"
  },
  "language_info": {
   "codemirror_mode": {
    "name": "ipython",
    "version": 3
   },
   "file_extension": ".py",
   "mimetype": "text/x-python",
   "name": "python",
   "nbconvert_exporter": "python",
   "pygments_lexer": "ipython3",
   "version": "3.10.13"
  }
 },
 "nbformat": 4,
 "nbformat_minor": 5
}
